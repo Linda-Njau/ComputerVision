{
 "cells": [
  {
   "cell_type": "code",
   "execution_count": 31,
   "id": "f8f2964b",
   "metadata": {},
   "outputs": [
    {
     "name": "stdout",
     "output_type": "stream",
     "text": [
      "Requirement already satisfied: tqdm in /home/lindanjau/.local/share/virtualenvs/ai-x-CTmFw2/lib/python3.12/site-packages (4.67.1)\n",
      "\n",
      "\u001b[1m[\u001b[0m\u001b[34;49mnotice\u001b[0m\u001b[1;39;49m]\u001b[0m\u001b[39;49m A new release of pip is available: \u001b[0m\u001b[31;49m25.0.1\u001b[0m\u001b[39;49m -> \u001b[0m\u001b[32;49m25.1.1\u001b[0m\n",
      "\u001b[1m[\u001b[0m\u001b[34;49mnotice\u001b[0m\u001b[1;39;49m]\u001b[0m\u001b[39;49m To update, run: \u001b[0m\u001b[32;49mpip install --upgrade pip\u001b[0m\n"
     ]
    }
   ],
   "source": [
    "!pip install tqdm"
   ]
  },
  {
   "cell_type": "code",
   "execution_count": 32,
   "id": "1c02a13a",
   "metadata": {},
   "outputs": [],
   "source": [
    "import torch\n",
    "import torchvision\n",
    "import matplotlib.pyplot as plt\n",
    "from torchvision import transforms\n",
    "from torch import nn\n",
    "from torch import optim\n",
    "from tqdm import tqdm\n",
    "import numpy as np\n",
    "import torch.nn.functional as F\n",
    "torch.manual_seed(42)\n",
    "np.random.seed(42)"
   ]
  },
  {
   "cell_type": "code",
   "execution_count": 33,
   "id": "09997419",
   "metadata": {},
   "outputs": [],
   "source": [
    "device = 'cuda:0' if torch.cuda.is_available() else 'cpu'\n",
    "train_size = 0.9\n",
    "lr = 1e-3\n",
    "eps = 1e-8\n",
    "batch_size = 256\n",
    "epochs = 30"
   ]
  },
  {
   "cell_type": "code",
   "execution_count": 34,
   "id": "4867108f",
   "metadata": {},
   "outputs": [],
   "source": [
    "def mnist(train_part, transform=None):\n",
    "    dataset = torchvision.datasets.MNIST('.', download=True, transform=transform)\n",
    "    train_part = int(train_part * len(dataset))\n",
    "    train_dataset, test_dataset = torch.utils.data.random_split(dataset, [train_part, len(dataset) - train_part])\n",
    "    return train_dataset, test_dataset"
   ]
  },
  {
   "cell_type": "code",
   "execution_count": 35,
   "id": "f079801a",
   "metadata": {},
   "outputs": [],
   "source": [
    "transform = transforms.Compose([transforms.ToTensor()])\n",
    "train_dataset, test_dataset = mnist(train_size, transform)\n",
    "\n",
    "train_dataloader = torch.utils.data.DataLoader(train_dataset, drop_last=True, batch_size=batch_size, shuffle=True)\n",
    "test_dataloader = torch.utils.data.DataLoader(test_dataset, batch_size=1, shuffle=False)\n",
    "dataloaders = (train_dataloader, test_dataloader)"
   ]
  },
  {
   "cell_type": "code",
   "execution_count": 28,
   "id": "0496b1c0",
   "metadata": {},
   "outputs": [],
   "source": [
    "def plotn(n, data, noisy=False, super_res=None):\n",
    "    fig, ax = plt.subplots(1, n)\n",
    "    for i, z in enumerate(data):\n",
    "        if i == n:\n",
    "            break\n",
    "        preprocess = z[0].reshape(1,28,28,) if z[0].shape[1] == 28 else z[0].reshape(1, 14, 14) if z[0].shape[1] == 14 else z[0]\n",
    "        if  super_res is not None:\n",
    "            _transform = transform.Resize((int(preprocess.shape[1] / super_res), int(preprocess.shape[2] / super_res)))\n",
    "        if noisy:\n",
    "            shapes = list(preprocess.shape)\n",
    "            preprocess += noisify(shapes)\n",
    "        ax[i].imshow(preprocess[0])\n",
    "    plt.show()\n",
    "    "
   ]
  },
  {
   "cell_type": "code",
   "execution_count": 29,
   "id": "6f7984dc",
   "metadata": {},
   "outputs": [],
   "source": [
    "def noisify(shapes):\n",
    "    return np.random.normal(loc=0.5, scale=0.3, size=shapes)"
   ]
  },
  {
   "cell_type": "code",
   "execution_count": 30,
   "id": "e0a34ec9",
   "metadata": {},
   "outputs": [
    {
     "ename": "NameError",
     "evalue": "name 'train_dataset' is not defined",
     "output_type": "error",
     "traceback": [
      "\u001b[31m---------------------------------------------------------------------------\u001b[39m",
      "\u001b[31mNameError\u001b[39m                                 Traceback (most recent call last)",
      "\u001b[36mCell\u001b[39m\u001b[36m \u001b[39m\u001b[32mIn[30]\u001b[39m\u001b[32m, line 1\u001b[39m\n\u001b[32m----> \u001b[39m\u001b[32m1\u001b[39m plotn(\u001b[32m5\u001b[39m, \u001b[43mtrain_dataset\u001b[49m)\n",
      "\u001b[31mNameError\u001b[39m: name 'train_dataset' is not defined"
     ]
    }
   ],
   "source": [
    "plotn(5, train_dataset)"
   ]
  },
  {
   "cell_type": "code",
   "execution_count": null,
   "id": "0348246f",
   "metadata": {},
   "outputs": [],
   "source": [
    "class Encoder(nn.Module):\n",
    "    def __init__(self):\n",
    "        super().__init__()\n",
    "        self.conv1 = nn.Conv2d(1, 16, kernel_size=(3,3), padding='same')\n",
    "        self.maxpool1 = nn.MaxPool2d(kernel_size=(2,2))\n",
    "        self.conv2 = nn.Conv2d(16, 8, kernel_size=(3,3), padding='same')\n",
    "        self.maxpool2 = nn.MaxPool2d(kernel_size=(2,2))\n",
    "        self.conv3 = nn.Conv2d(8, 8, kernel_size=(3,3), padding='same')\n",
    "        self.maxpool3 = nn.MaxPool2d(kernel_size=(2,2), padding=(1,1))\n",
    "        self.relu = nn.ReLU()\n",
    "\n",
    "    def forward(self, input):\n",
    "        hidden1 = self.maxpool1(self.relu(self.conv1(input)))\n",
    "        hidden2 = self.maxpool2(self.relu(self.conv2(hidden1)))\n",
    "        encoded = self.maxpool3(self.relu(self.conv3(hidden2)))\n",
    "        return encoded"
   ]
  },
  {
   "cell_type": "code",
   "execution_count": null,
   "id": "f33e0f17",
   "metadata": {},
   "outputs": [],
   "source": [
    "class Decoder(nn.Module):\n",
    "    def __init__(self):\n",
    "        super().__init__()\n",
    "        self.conv1 = nn.Conv2d(8, 8, kernel_size=(3,3), padding='same')\n",
    "        self.upsample1 = nn.Upsample(scale_factor=(2,2))\n",
    "        self.conv2 = nn.Conv2d(8,8, kernel_size=(3,3), padding='same')\n",
    "        self.upsample2 = nn.Upsample(scale_factor=(2,2))\n",
    "        self.conv3 = nn.Conv2d(8, 16, kernel_size=(3, 3))\n",
    "        self.upsample3 = nn.Upsample(scale_factor=(2, 2))\n",
    "        self.conv4 = nn.Conv2d(16, 1, kernel_size=(3, 3), padding='same')\n",
    "        self.relu = nn.ReLU()\n",
    "        self.sigmoid = nn.Sigmoid()\n",
    "    \n",
    "    def forward(self, input):\n",
    "        hidden1 = self.upsample1(self.relu(self.conv1(input)))\n",
    "        hidden2 = self.upsample2(self.relu(self.conv2(hidden1)))\n",
    "        hidden3 = self.upsample3(self.relu(self.conv3(hidden2)))\n",
    "        decoded = self.sigmoid(self.conv4(hidden3))\n",
    "        return decoded\n",
    "\n"
   ]
  },
  {
   "cell_type": "code",
   "execution_count": null,
   "id": "d901025e",
   "metadata": {},
   "outputs": [],
   "source": [
    "class AutoEncoder(nn.Module):\n",
    "    def __init__(self, super_resolution=False):\n",
    "        super().__init__()\n",
    "        if not super_resolution:\n",
    "            self.encoder = Encoder()\n",
    "        else:\n",
    "            self.encoder = SuperResolutionEncoder()\n",
    "        self.decoder = Decoder()\n",
    "    \n",
    "    def forward(self, input):\n",
    "        encoded = self.encoder(input)\n",
    "        decoded = self.decoder(encoded)\n",
    "        return decoded"
   ]
  },
  {
   "cell_type": "code",
   "execution_count": null,
   "id": "b7e500bd",
   "metadata": {},
   "outputs": [],
   "source": [
    "model = AutoEncoder().to(device)\n",
    "optimizer = optim.Adam(model.parameters(), lr=lr, eps=eps)\n",
    "loss_fn = nn.BCELoss()"
   ]
  },
  {
   "cell_type": "code",
   "execution_count": null,
   "id": "b1c17ce2",
   "metadata": {},
   "outputs": [],
   "source": [
    "def train(dataloaders, model, loss_fn, optimizer, epochs, device, noisy=None, super_res=None):\n",
    "    tqdm_iter = tqdm(range(epochs))\n",
    "    train_dataloader, test_dataloader = dataloaders[0], dataloaders[1]\n",
    "\n",
    "    for epoch in tqdm_iter:\n",
    "        model.train()\n",
    "        train_loss = 0.0\n",
    "        test_loss = 0.0\n",
    "\n",
    "        for batch in train_dataloader:\n",
    "            imgs, labels = batch\n",
    "            shapes = list(imgs.shape)\n",
    "\n",
    "            if super_res is not None:\n",
    "                shapes[2], shapes[3] = int(shapes[2] / super_res), int(shapes[3] / super_res)\n",
    "                _transform = transforms.Resize((shapes[2], shapes[3]))\n",
    "                imgs_transformed = _transform(imgs)\n",
    "                imgs_transformed = imgs_transformed.to(device)\n",
    "\n",
    "            imgs = imgs.to(device)\n",
    "            labels = labels.to(device)\n",
    "\n",
    "            if noisy is not None:\n",
    "                noisy_tensor = noisy[0]\n",
    "            else:\n",
    "                noisy_tensor = torch.zeros(tuple(shapes)).to(device)\n",
    "\n",
    "            if super_res is None:\n",
    "                imgs_noisy = imgs + noisy_tensor\n",
    "            else:\n",
    "                imgs_noisy = imgs_transformed + noisy_tensor\n",
    "\n",
    "            imgs_noisy = torch.clamp(imgs_noisy, 0., 1.)\n",
    "\n",
    "            preds = model(imgs_noisy)\n",
    "            loss = loss_fn(preds, imgs)\n",
    "\n",
    "            optimizer.zero_grad()\n",
    "            loss.backward()\n",
    "            optimizer.step()\n",
    "\n",
    "            train_loss += loss.item()\n",
    "\n",
    "        model.eval()\n",
    "        with torch.no_grad():\n",
    "            for batch in test_dataloader:\n",
    "                imgs, labels = batch\n",
    "                shapes = list(imgs.shape)\n",
    "\n",
    "                if super_res is not None:\n",
    "                    shapes[2], shapes[3] = int(shapes[2] / super_res), int(shapes[3] / super_res)\n",
    "                    _transform = transforms.Resize((shapes[2], shapes[3]))\n",
    "                    imgs_transformed = _transform(imgs)\n",
    "                    imgs_transformed = imgs_transformed.to(device)\n",
    "\n",
    "\n",
    "                imgs = imgs.to(device)\n",
    "                labels = labels.to(device)\n",
    "\n",
    "                if noisy is not None:\n",
    "                    test_noisy_tensor = noisy[1]\n",
    "                else:\n",
    "                    test_noisy_tensor = torch.zeros(tuple(shapes)).to(device)\n",
    "\n",
    "                if super_res is None:\n",
    "                    imgs_noisy = imgs + test_noisy_tensor\n",
    "                else:\n",
    "                    imgs_noisy = imgs_transformed + test_noisy_tensor\n",
    "\n",
    "                imgs_noisy = torch.clamp(imgs_noisy, 0., 1.)\n",
    "\n",
    "                preds = model(imgs_noisy)\n",
    "                loss = loss_fn(preds, imgs)\n",
    "\n",
    "                test_loss += loss.item()\n",
    "\n",
    "        train_loss /= len(train_dataloader)\n",
    "        test_loss /= len(test_dataloader)\n",
    "\n",
    "        tqdm_dct = {'train loss:': train_loss, 'test loss:': test_loss}\n",
    "        tqdm_iter.set_postfix(tqdm_dct, refresh=True)\n",
    "        tqdm_iter.refresh()\n"
   ]
  },
  {
   "cell_type": "code",
   "execution_count": null,
   "id": "366ccb6f",
   "metadata": {},
   "outputs": [
    {
     "name": "stderr",
     "output_type": "stream",
     "text": [
      "100%|██████████| 30/30 [26:25<00:00, 52.85s/it, train loss:=0.104, test loss:=0.104]\n"
     ]
    }
   ],
   "source": [
    "train(dataloaders, model, loss_fn, optimizer, epochs, device)"
   ]
  },
  {
   "cell_type": "code",
   "execution_count": null,
   "id": "53e45d68",
   "metadata": {},
   "outputs": [
    {
     "data": {
      "image/png": "[encoded data removed]",
      "text/plain": [
       "<Figure size 640x480 with 5 Axes>"
      ]
     },
     "metadata": {},
     "output_type": "display_data"
    },
    {
     "data": {
      "image/png": "[encoded data removed]",
      "text/plain": [
       "<Figure size 640x480 with 5 Axes>"
      ]
     },
     "metadata": {},
     "output_type": "display_data"
    }
   ],
   "source": [
    "model.eval()\n",
    "predictions = []\n",
    "plots = 5\n",
    "for i, data in enumerate(test_dataset):\n",
    "    if i == plots:\n",
    "        break\n",
    "predictions.append(model(data[0].to(device).unsqueeze(0)).detach().cpu())\n",
    "plotn(plots, test_dataset)\n",
    "plotn(plots, predictions)"
   ]
  },
  {
   "cell_type": "code",
   "execution_count": null,
   "id": "19f1a496",
   "metadata": {},
   "outputs": [],
   "source": [
    "noisy_tensor = torch.FloatTensor(noisify([256, 1, 28, 28])).to(device)\n",
    "test_noisy_tensor = torch.FloatTensor(noisify([1, 1, 28, 28])).to(device)\n",
    "noisy_tensors = (noisy_tensor, test_noisy_tensor)"
   ]
  },
  {
   "cell_type": "code",
   "execution_count": null,
   "id": "472e28f0",
   "metadata": {},
   "outputs": [
    {
     "name": "stderr",
     "output_type": "stream",
     "text": [
      " 27%|██▋       | 27/100 [25:03<1:10:34, 58.00s/it, train loss:=0.127, test loss:=0.123]"
     ]
    }
   ],
   "source": [
    "train(dataloaders, model, loss_fn, optimizer, 100, device, noisy=noisy_tensors)"
   ]
  },
  {
   "cell_type": "code",
   "execution_count": null,
   "id": "c04eb253",
   "metadata": {},
   "outputs": [
    {
     "data": {
      "image/png": "[encoded data removed]",
      "text/plain": [
       "<Figure size 640x480 with 5 Axes>"
      ]
     },
     "metadata": {},
     "output_type": "display_data"
    },
    {
     "data": {
      "image/png": "[encoded data removed]",
      "text/plain": [
       "<Figure size 640x480 with 5 Axes>"
      ]
     },
     "metadata": {},
     "output_type": "display_data"
    }
   ],
   "source": [
    "model.eval()\n",
    "predictions = []\n",
    "noise = []\n",
    "plots = 5\n",
    "for i, data in enumerate(test_dataset):\n",
    "    if i == plots:\n",
    "        break\n",
    "    shapes = data[0].shape\n",
    "    noisy_data = data[0] + test_noisy_tensor[0].detach().cpu()\n",
    "    noise.append(noisy_data)\n",
    "predictions.append(model(noisy_data.to(device).unsqueeze(0)).detach().cpu())\n",
    "plotn(plots, noise)\n",
    "plotn(plots, predictions)"
   ]
  },
  {
   "cell_type": "code",
   "execution_count": null,
   "id": "045ea624",
   "metadata": {},
   "outputs": [
    {
     "ename": "AttributeError",
     "evalue": "'Compose' object has no attribute 'Resize'",
     "output_type": "error",
     "traceback": [
      "\u001b[31m---------------------------------------------------------------------------\u001b[39m",
      "\u001b[31mAttributeError\u001b[39m                            Traceback (most recent call last)",
      "\u001b[36mCell\u001b[39m\u001b[36m \u001b[39m\u001b[32mIn[39]\u001b[39m\u001b[32m, line 2\u001b[39m\n\u001b[32m      1\u001b[39m super_res_koeff = \u001b[32m2.0\u001b[39m\n\u001b[32m----> \u001b[39m\u001b[32m2\u001b[39m \u001b[43mplotn\u001b[49m\u001b[43m(\u001b[49m\u001b[32;43m5\u001b[39;49m\u001b[43m,\u001b[49m\u001b[43m \u001b[49m\u001b[43mtrain_dataset\u001b[49m\u001b[43m,\u001b[49m\u001b[43m \u001b[49m\u001b[43msuper_res\u001b[49m\u001b[43m=\u001b[49m\u001b[43msuper_res_koeff\u001b[49m\u001b[43m)\u001b[49m\n",
      "\u001b[36mCell\u001b[39m\u001b[36m \u001b[39m\u001b[32mIn[10]\u001b[39m\u001b[32m, line 8\u001b[39m, in \u001b[36mplotn\u001b[39m\u001b[34m(n, data, noisy, super_res)\u001b[39m\n\u001b[32m      6\u001b[39m preprocess = z[\u001b[32m0\u001b[39m].reshape(\u001b[32m1\u001b[39m,\u001b[32m28\u001b[39m,\u001b[32m28\u001b[39m,) \u001b[38;5;28;01mif\u001b[39;00m z[\u001b[32m0\u001b[39m].shape[\u001b[32m1\u001b[39m] == \u001b[32m28\u001b[39m \u001b[38;5;28;01melse\u001b[39;00m z[\u001b[32m0\u001b[39m].reshape(\u001b[32m1\u001b[39m, \u001b[32m14\u001b[39m, \u001b[32m14\u001b[39m) \u001b[38;5;28;01mif\u001b[39;00m z[\u001b[32m0\u001b[39m].shape[\u001b[32m1\u001b[39m] == \u001b[32m14\u001b[39m \u001b[38;5;28;01melse\u001b[39;00m z[\u001b[32m0\u001b[39m]\n\u001b[32m      7\u001b[39m \u001b[38;5;28;01mif\u001b[39;00m  super_res \u001b[38;5;129;01mis\u001b[39;00m \u001b[38;5;129;01mnot\u001b[39;00m \u001b[38;5;28;01mNone\u001b[39;00m:\n\u001b[32m----> \u001b[39m\u001b[32m8\u001b[39m     _transform = \u001b[43mtransform\u001b[49m\u001b[43m.\u001b[49m\u001b[43mResize\u001b[49m((\u001b[38;5;28mint\u001b[39m(preprocess.shape[\u001b[32m1\u001b[39m] / super_res), \u001b[38;5;28mint\u001b[39m(preprocess.shape[\u001b[32m2\u001b[39m] / super_res)))\n\u001b[32m      9\u001b[39m \u001b[38;5;28;01mif\u001b[39;00m noisy:\n\u001b[32m     10\u001b[39m     shapes = \u001b[38;5;28mlist\u001b[39m(preprocess.shape)\n",
      "\u001b[31mAttributeError\u001b[39m: 'Compose' object has no attribute 'Resize'"
     ]
    },
    {
     "data": {
      "image/png": "[encoded data removed]",
      "text/plain": [
       "<Figure size 640x480 with 5 Axes>"
      ]
     },
     "metadata": {},
     "output_type": "display_data"
    }
   ],
   "source": [
    "super_res_koeff = 2.0\n",
    "plotn(5, train_dataset, super_res=super_res_koeff)"
   ]
  },
  {
   "cell_type": "code",
   "execution_count": null,
   "id": "9a03e62b",
   "metadata": {},
   "outputs": [],
   "source": [
    "class SuperResolutionEncoder(nn.Module):\n",
    "    def __init__(self):\n",
    "        super().__init__()\n",
    "        self.conv1 = nn.Conv2d(1, 16, kernel_size=(3,3), padding='same')\n",
    "        self.maxpool1 = nn.MaxPool2d(kernel_size=(2,2))\n",
    "        self.conv2 = nn.Conv2d(16, 8, kernel_size=(3, 3), padding='same')\n",
    "        self.maxpool2 = nn.MaxPool2d(kernel_size=(2, 2), padding=(1, 1))\n",
    "        self.relu = nn.ReLU()\n",
    "    \n",
    "    def forward(self, input):\n",
    "        hidden1 = self.maxpool1(self.relu(self.conv1(input)))\n",
    "        encoded = self.maxpool2(self.relu(self.conv2(hidden1)))\n",
    "        return encoded"
   ]
  },
  {
   "cell_type": "code",
   "execution_count": null,
   "id": "4be483f0",
   "metadata": {},
   "outputs": [],
   "source": [
    "model = AutoEncoder(super_resolution=True).to(device)\n",
    "optimizer = optim.Adam(model.parameters(), lr=lr, eps=eps)\n",
    "loss_fn = nn.BCELoss()"
   ]
  },
  {
   "cell_type": "code",
   "execution_count": null,
   "id": "d20cba40",
   "metadata": {},
   "outputs": [],
   "source": [
    "\n",
    "\n",
    "train(dataloaders, model, loss_fn, optimizer, epochs, device, super_res=2.0)"
   ]
  },
  {
   "cell_type": "code",
   "execution_count": null,
   "id": "75726dbd",
   "metadata": {},
   "outputs": [],
   "source": [
    "model.eval()\n",
    "predictions = []\n",
    "plots = 5\n",
    "shapes = test_dataset[0][0].shape\n",
    "\n",
    "for i,data in enumerate(test_dataset):\n",
    "    if i == plots:\n",
    "        break\n",
    "    _transform = transforms.Resize((int(shapes[1] / super_res_koeff), int(shapes[2] / super_res_koeff)))\n",
    "predictions.append(model(_transform(data[0]).to(device).unsqueeze(0)).cpu())\n",
    "plotn(plots, test_dataset, super_res=super_res_koeff)\n",
    "plotn(plots, predictions)"
   ]
  },
  {
   "cell_type": "code",
   "execution_count": null,
   "id": "401895de",
   "metadata": {},
   "outputs": [],
   "source": [
    "class VAEEncoder(nn.Module):\n",
    "    def __init__(self, device):\n",
    "        super().__init__()\n",
    "        self.intermediate_dim = 512\n",
    "        self.latent_dim = 2\n",
    "        self.linear = nn.Linear(784, self.intermediate_dim)\n",
    "        self.z_mean = nn.Linear(self.intermediate_dim, self.latent_dim)\n",
    "        self.z_log = nn.Linear(self.intermediate_dim, self.latent_dim)\n",
    "        self.relu = nn.ReLU()\n",
    "        self.device = device\n",
    "    \n",
    "    def forward(self, input):\n",
    "        bs = input.shape[0]\n",
    "\n",
    "        hidden = self.relu(self.linear(input))\n",
    "        z_mean = self.z_mean(hidden)\n",
    "        z_log = self.z_log(hidden)\n",
    "\n",
    "        eps = torch.FloatTensor(np.random.normal(size=(bs,self.latent_dim))).to(device)\n",
    "        z_val = z_mean + torch.exp(z_log) * eps\n",
    "        return z_mean, z_log, z_val"
   ]
  },
  {
   "cell_type": "code",
   "execution_count": null,
   "id": "2c09e463",
   "metadata": {},
   "outputs": [],
   "source": [
    "class VAEDecoder(nn.Module):\n",
    "    def __init__(self):\n",
    "        super().__init__()\n",
    "        self.intermediate_dim = 512\n",
    "        self.latent_dim = 2\n",
    "        self.linear = nn.Linear(self.latent_dim, self.intermediate_dim)\n",
    "        self.output = nn.Linear(self.intermediate_dim, 784)\n",
    "        self.relu = nn.ReLU()\n",
    "        self.sigmoid = nn.Sigmoid()\n",
    "    \n",
    "    def forward(self, input):\n",
    "        hidden = self.relu(self.linear(input))\n",
    "        decoded = self.sigmoid(self.output(hidden))\n",
    "        return decoded"
   ]
  },
  {
   "cell_type": "code",
   "execution_count": null,
   "id": "07bd5889",
   "metadata": {},
   "outputs": [],
   "source": [
    "class VAEAutoEncoder(nn.Module):\n",
    "    def __init__(self, device):\n",
    "        super().__init__()\n",
    "        self.encoder = VAEEncoder(device)\n",
    "        self.decoder = VAEDecoder()\n",
    "        self.z_vals = None\n",
    "    \n",
    "    def forward(self, input):\n",
    "        bs, c, h, w = input.shape[0], input.shape[1], input.shape[2], input.shape[3]\n",
    "        input = input.view(bs, -1)\n",
    "        encoded = self.encoder(input)\n",
    "        self.z_vals = encoded\n",
    "        decoded = self.decoder(encoded[2])\n",
    "        return decoded\n",
    "\n",
    "    def get_zvals(self):\n",
    "        return self.z_vals"
   ]
  },
  {
   "cell_type": "code",
   "execution_count": null,
   "id": "f5e9064a",
   "metadata": {},
   "outputs": [],
   "source": [
    "def vae_loss(preds, targets, z_vals):\n",
    "    mse = nn.MSELoss()\n",
    "    reconstruction_loss = mse(preds, targets.view(targets.shape[0], -1)) * 784.0\n",
    "    temp = 1.0 + z_vals[1] - torch.square(z_vals[0] - torch.exp(z_vals[1]))\n",
    "    kl_loss = 0.5 * torch.sum(temp, axis=-1)\n",
    "    return torch.mean(reconstruction_loss + kl_loss)"
   ]
  },
  {
   "cell_type": "code",
   "execution_count": null,
   "id": "c5c99fd8",
   "metadata": {},
   "outputs": [],
   "source": [
    "model = VAEAutoEncoder(device).to(device)\n",
    "optimizer = optim.RMSprop(model.parameters(), lr=lr, eps=eps)"
   ]
  },
  {
   "cell_type": "code",
   "execution_count": 36,
   "id": "5603e25e",
   "metadata": {},
   "outputs": [],
   "source": [
    "def train_vae(dataloaders, model, optimizer, epochs, device):\n",
    "    tqdm_iter = tqdm(range(epochs))\n",
    "    train_dataloader, test_dataloader = dataloaders[0], dataloaders[1]\n",
    "\n",
    "    for epoch in tqdm_iter:\n",
    "        model.train()\n",
    "        train_loss = 0.0\n",
    "        test_loss = 0.0\n",
    "\n",
    "        for batch in train_dataloader:\n",
    "            imgs, labels = batch\n",
    "            imgs = imgs.to(device)\n",
    "            labels = labels.to(device)\n",
    "\n",
    "            preds = model(imgs)\n",
    "            z_vals = model.get_zvals()\n",
    "            loss = vae_loss(preds, imgs, z_vals)\n",
    "\n",
    "            optimizer.zero_grad()\n",
    "            loss.backward()\n",
    "            optimizer.step()\n",
    "\n",
    "            train_loss += loss.item()\n",
    "        \n",
    "        model.eval()\n",
    "        with torch.no_grad():\n",
    "            for batch in test_dataloader:\n",
    "                imgs, labels = batch\n",
    "                imgs = imgs.to(device)\n",
    "                labels = labels.to(device)\n",
    "\n",
    "                preds = model(imgs)\n",
    "                z_vals = model.get_zvals()\n",
    "                loss = vae_loss(preds, imgs, z_vals)\n",
    "\n",
    "                test_loss += loss.item()\n",
    "        \n",
    "        train_loss /= len(train_dataloader)\n",
    "        test_loss /= len(test_dataloader)\n",
    "\n",
    "        tqdm_dct = {'train loss:': train_loss, 'test loss:': test_loss}\n",
    "        tqdm_iter.set_postfix(tqdm_dct, refresh=True)\n",
    "        tqdm_iter.refresh()"
   ]
  },
  {
   "cell_type": "code",
   "execution_count": null,
   "id": "f8c4fa65",
   "metadata": {},
   "outputs": [
    {
     "name": "stderr",
     "output_type": "stream",
     "text": [
      "  0%|          | 0/30 [00:00<?, ?it/s]"
     ]
    },
    {
     "name": "stderr",
     "output_type": "stream",
     "text": [
      " 23%|██▎       | 7/30 [03:20<10:05, 26.33s/it, train loss:=-2.06e+10, test loss:=-2.55e+10]"
     ]
    }
   ],
   "source": [
    "\n",
    "train_vae(dataloaders, model, optimizer, epochs, device)"
   ]
  }
 ],
 "metadata": {
  "kernelspec": {
   "display_name": "ai-x-CTmFw2",
   "language": "python",
   "name": "python3"
  },
  "language_info": {
   "codemirror_mode": {
    "name": "ipython",
    "version": 3
   },
   "file_extension": ".py",
   "mimetype": "text/x-python",
   "name": "python",
   "nbconvert_exporter": "python",
   "pygments_lexer": "ipython3",
   "version": "3.12.6"
  }
 },
 "nbformat": 4,
 "nbformat_minor": 5
}
