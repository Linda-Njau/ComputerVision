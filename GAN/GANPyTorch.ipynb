{
 "cells": [
  {
   "cell_type": "code",
   "execution_count": null,
   "id": "9936fd8d",
   "metadata": {},
   "outputs": [],
   "source": [
    "import torch\n",
    "import torchvision\n",
    "import matplotlib.pyplot as plt\n",
    "from torchvision import transforms\n",
    "from torch import nn\n",
    "from torch import optim\n",
    "from tqdm import tqdm\n",
    "import numpy as np\n",
    "import torch.nn.functional as F\n",
    "torch.manual_seed(42)\n",
    "np.random.seed(42)\n"
   ]
  },
  {
   "cell_type": "code",
   "execution_count": null,
   "id": "6b110b2c",
   "metadata": {},
   "outputs": [],
   "source": [
    "device = 'cuda:0' if torch.cuda.is_available() else 'cpu'\n",
    "train_size = 1.0\n",
    "lr = 2e-4\n",
    "weight_decay = 8e-9\n",
    "beta1 = 0.5\n",
    "beta2 = 0.999\n",
    "batch_size = 256\n",
    "epochs = 100\n",
    "plot_every = 10"
   ]
  },
  {
   "cell_type": "code",
   "execution_count": null,
   "id": "bd9182ed",
   "metadata": {},
   "outputs": [],
   "source": [
    "class Generator(nn.Module):\n",
    "    def __init__(self):\n",
    "        super().__init__()\n",
    "        self.linear1 = nn.Linear(100, 256)\n",
    "        self.bn1 = nn.BatchNorm1d(256, momentum=0.2)\n",
    "        self.linear2 = nn.Linear(256, 512)\n",
    "        self.bn2 = nn.BatchNorm1d(512, momentum=0.2)\n",
    "        self.linear3 = nn.Linear(512, 1024)\n",
    "        self.bn3 = nn.BatchNorm1d(1024, momentum=0.2)\n",
    "        self.linear4 = nn.Linear(1024, 784)\n",
    "        self.tanh = nn.Tanh()\n",
    "        self.leaky_relu = nn.LeakyReLU(0.2)\n",
    "\n",
    "    def forward(self, input):\n",
    "        hidden1 = self.leaky_relu(self.bn1(self.linear1(input)))\n",
    "        hidden2 = self.leaky_relu(self.bn2(self.linear2(hidden1)))\n",
    "        hidden3 = self.leaky_relu(self.bn3(self.linear3(hidden2)))\n",
    "        generated = self.tanh(self.linear4(hidden3)).view(input.shape [0], 1, 28, 28)\n",
    "        return generated"
   ]
  },
  {
   "cell_type": "code",
   "execution_count": null,
   "id": "440c3804",
   "metadata": {},
   "outputs": [],
   "source": [
    "class Discriminator(nn.Module):\n",
    "    def __init__(self):\n",
    "        super().__init__()\n",
    "        self.linear1 = nn.Linear(784, 512)\n",
    "        self.linear2 = nn.Linear(512, 256)\n",
    "        self.linear3 = nn.Linear(256, 1)\n",
    "        self.leaky_relu = nn.LeakyReLU(0.2)\n",
    "        self.sigmoid = nn.Sigmoid()\n",
    "\n",
    "    def forward(self, input):\n",
    "        input = input.view(input.shape[0], -1)\n",
    "        hidden1 = self.leaky_relu(self.linear1(input))\n",
    "        hidden2 = self.leaky_relu(self.linear2(hidden1))\n",
    "        classified = self.sigmoid(self.linear3(hidden2))\n",
    "        return classified"
   ]
  },
  {
   "cell_type": "code",
   "execution_count": null,
   "id": "c4375cc1",
   "metadata": {},
   "outputs": [],
   "source": [
    "def mnist(train_part, transform=None):\n",
    "    dataset = torchvision.datasets.MNIST('.', download=True, transform=transform)\n",
    "    train_part = int(train_part * len(dataset))\n",
    "    train_dataset, test_dataset = torch.utils.data.random_split(dataset, [train_part, len(dataset) - train_part])\n",
    "    return train_dataset, test_dataset"
   ]
  },
  {
   "cell_type": "code",
   "execution_count": null,
   "id": "208d4cd4",
   "metadata": {},
   "outputs": [],
   "source": [
    "transform = transforms.Compose([\n",
    "    transforms.ToTensor(),\n",
    "    transforms.Normalize(mean=0.5, std=0.5)\n",
    "])"
   ]
  },
  {
   "cell_type": "code",
   "execution_count": null,
   "id": "90c74b6c",
   "metadata": {},
   "outputs": [],
   "source": [
    "\n",
    "train_dataset, test_dataset = mnist(train_size, transform)"
   ]
  },
  {
   "cell_type": "code",
   "execution_count": null,
   "id": "4748f886",
   "metadata": {},
   "outputs": [],
   "source": [
    "train_dataloader = torch.utils.data.DataLoader(train_dataset, drop_last=True, batch_size=batch_size, shuffle=True)\n",
    "dataloaders = (train_dataloader, )"
   ]
  },
  {
   "cell_type": "code",
   "execution_count": null,
   "id": "c65317ea",
   "metadata": {},
   "outputs": [],
   "source": [
    "def plotn(n, generator, device):\n",
    "    generator.eval()\n",
    "    noise = torch.FloatTensor(np.random.normal(0, 1, (n, 100))).to(device)\n",
    "    imgs = generator(noise).detach().cpu()\n",
    "    fig, ax = plt.subplots(1, n)\n",
    "    for i, im in enumerate (imgs):\n",
    "        ax[i].imshow(im[0])\n",
    "    plt.show()"
   ]
  },
  {
   "cell_type": "code",
   "execution_count": null,
   "id": "ba465665",
   "metadata": {},
   "outputs": [],
   "source": [
    "def train_gan(dataloaders, models, optimizers, loss_fn, epochs, plot_every, device):\n",
    "    tqdm_iter = tqdm(range(epochs))\n",
    "    train_dataloader = dataloaders[0]\n",
    "\n",
    "    gen, disc = models[0], models[1]\n",
    "    optim_gen, optim_disc = optimizers[0], optimizers[1]\n",
    "\n",
    "    for epoch in tqdm_iter:\n",
    "        gen.train()\n",
    "        disc.train()\n",
    "\n",
    "        train_gen_loss = 0.0\n",
    "        train_disc_loss = 0.0\n",
    "\n",
    "        for batch in train_dataloader:\n",
    "            imgs, _ = batch\n",
    "            imgs = imgs.to(device)\n",
    "\n",
    "            disc.eval()\n",
    "            gen.zero_grad()\n",
    "\n",
    "            noise = torch.FloatTensor(np.random.normal(0.0, 1.0, (imgs.shape[0], 100))).to(device)\n",
    "            real_labels = torch.ones((imgs.shape[0], 1)).to(device)\n",
    "            fake_labels = torch.zeros((imgs.shape[0], 1)).to(device)\n",
    "\n",
    "            generated = gen(noise)\n",
    "            disc_preds = disc(generated)\n",
    "\n",
    "            g_loss = loss_fn(disc_preds, real_labels)\n",
    "            g_loss.backward()\n",
    "            optim_gen.step()\n",
    "\n",
    "            disc.train()\n",
    "            disc.zero_grad()\n",
    "\n",
    "            disc_real = disc(imgs)\n",
    "            disc_real_loss = loss_fn(disc_real, real_labels)\n",
    "\n",
    "            disc_fake = disc(generated.detach())\n",
    "            disc_fake_loss = loss_fn(disc_fake, fake_labels)\n",
    "\n",
    "            d_loss = (disc_real_loss + disc_fake_loss) / 2.0\n",
    "            d_loss.backward()\n",
    "            optim_disc.step()\n",
    "\n",
    "            train_gen_loss += g_loss.item()\n",
    "            train_disc_loss += d_loss.item()\n",
    "            \n",
    "        train_gen_loss /= len(train_dataloader)\n",
    "        train_disc_loss /= len(train_dataloader)\n",
    "\n",
    "        if epoch % plot_every == 0 or epoch == epochs - 1:\n",
    "            plotn(5, gen, device)\n",
    "\n",
    "        tqdm_dct = {'generator loss:': train_gen_loss, 'discriminator loss:': train_disc_loss}\n",
    "        tqdm_iter.set_postfix(tqdm_dct, refresh=True)\n",
    "        tqdm_iter.refresh()\n",
    "        \n"
   ]
  },
  {
   "cell_type": "code",
   "execution_count": null,
   "id": "3a502cba",
   "metadata": {},
   "outputs": [],
   "source": [
    "generator = Generator().to(device)\n",
    "discriminator = Discriminator().to(device)\n",
    "optimizer_generator = optim.Adam(generator.parameters(), lr=lr, weight_decay=weight_decay, betas=(beta1, beta2))\n",
    "optimizer_discriminator = optim.Adam(discriminator.parameters(), lr=lr, weight_decay=weight_decay, betas=(beta1, beta2))\n",
    "loss_fn = nn.BCELoss()\n",
    "\n",
    "models = (generator, discriminator)\n",
    "optimizers = (optimizer_generator, optimizer_discriminator)"
   ]
  },
  {
   "cell_type": "code",
   "execution_count": null,
   "id": "8253d6e0",
   "metadata": {},
   "outputs": [
    {
     "name": "stderr",
     "output_type": "stream",
     "text": [
      "  0%|          | 0/100 [00:00<?, ?it/s]"
     ]
    },
    {
     "data": {
      "image/png": "[encoded data removed]",
      "text/plain": [
       "<Figure size 640x480 with 5 Axes>"
      ]
     },
     "metadata": {},
     "output_type": "display_data"
    },
    {
     "name": "stderr",
     "output_type": "stream",
     "text": [
      "  5%|▌         | 5/100 [19:41<6:10:16, 233.85s/it, generator loss:=1.19, discriminator loss:=0.534]"
     ]
    }
   ],
   "source": [
    "train_gan(dataloaders, models, optimizers, loss_fn, epochs, plot_every, device)"
   ]
  }
 ],
 "metadata": {
  "kernelspec": {
   "display_name": "ai-x-CTmFw2",
   "language": "python",
   "name": "python3"
  },
  "language_info": {
   "codemirror_mode": {
    "name": "ipython",
    "version": 3
   },
   "file_extension": ".py",
   "mimetype": "text/x-python",
   "name": "python",
   "nbconvert_exporter": "python",
   "pygments_lexer": "ipython3",
   "version": "3.12.6"
  }
 },
 "nbformat": 4,
 "nbformat_minor": 5
}
