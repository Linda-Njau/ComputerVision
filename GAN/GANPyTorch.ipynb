{
 "cells": [
  {
   "cell_type": "code",
   "execution_count": 1,
   "id": "9936fd8d",
   "metadata": {},
   "outputs": [],
   "source": [
    "import torch\n",
    "import torchvision\n",
    "import matplotlib.pyplot as plt\n",
    "from torchvision import transforms\n",
    "from torch import nn\n",
    "from torch import optim\n",
    "from tqdm import tqdm\n",
    "import numpy as np\n",
    "import torch.nn.functional as F\n",
    "torch.manual_seed(42)\n",
    "np.random.seed(42)\n"
   ]
  },
  {
   "cell_type": "code",
   "execution_count": 2,
   "id": "6b110b2c",
   "metadata": {},
   "outputs": [],
   "source": [
    "device = 'cuda:0' if torch.cuda.is_available() else 'cpu'\n",
    "train_size = 1.0\n",
    "lr = 2e-4\n",
    "weight_decay = 8e-9\n",
    "beta1 = 0.5\n",
    "beta2 = 0.999\n",
    "batch_size = 256\n",
    "epochs = 100\n",
    "plot_every = 10"
   ]
  },
  {
   "cell_type": "code",
   "execution_count": 3,
   "id": "bd9182ed",
   "metadata": {},
   "outputs": [],
   "source": [
    "class Generator(nn.Module):\n",
    "    def __init__(self):\n",
    "        super().__init__()\n",
    "        self.linear1 = nn.linear(100, 256)\n",
    "        self.bn1 = nn.BatchNorm1d(256, momentum=0.2)\n",
    "        self.linear2 = nn.Linear(256, 512)\n",
    "        self.bn2 = nn.BatchNorm1d(512, momentum=0.2)\n",
    "        self.linear3 = nn.Linear(512, 1024)\n",
    "        self.bn3 = nn.BatchNorm1d(1024, momentum=0.2)\n",
    "        self.linear4 = nn.Linear(1024, 784)\n",
    "        self.tanh = nn.Tanh()\n",
    "        self.leaky_relu = nn.LeakyReLU(0.2)\n",
    "\n",
    "    def forward(self, input):\n",
    "        hidden1 = self.leaky_relu(self.bn1(self.linear1(input)))\n",
    "        hidden2 = self.leaky_relu(self.bn2(self.linear2(hidden1)))\n",
    "        hidden3 = self.leaky_relu(self.bn3(self.linear3(hidden2)))\n",
    "        generated = self.tanh(self.linear4(hidden3)).view(input.shape [0], 1, 28, 28)\n",
    "        return generated"
   ]
  },
  {
   "cell_type": "code",
   "execution_count": null,
   "id": "440c3804",
   "metadata": {},
   "outputs": [],
   "source": [
    "class Discriminator(nn.Module):\n",
    "    def __init__(self):\n",
    "        super().__init__()\n",
    "        self.linear1 = nn.Linear(784, 512)\n",
    "        self.linear2 = nn.Linear2(512, 256)\n",
    "        self.leaky_relu = nn.LeakyReLU(0.2)\n",
    "        self.sigmoid = nn.Sigmoid()\n",
    "\n",
    "    def forward(self, input):\n",
    "        input = input.view(input.shape[0], -1)\n",
    "        hidden1 = self.leaky_relu(self.linear1(input))\n",
    "        hidden2 = self.leaky_relu(self.linear2(hidden1))\n",
    "        classified = self.sigmoid(self.linear3(hidden2))\n",
    "        return classified"
   ]
  },
  {
   "cell_type": "code",
   "execution_count": null,
   "id": "c4375cc1",
   "metadata": {},
   "outputs": [],
   "source": [
    "def mnist(train_part, transform=None):\n",
    "    dataset = torchvision.datasets.MNIST('.', download=True, transform=transform)\n",
    "    train_part - int(train_part * len(dataset))\n",
    "    train_dataset, test_dataset = torch.utils.data.random_split(dataset, [train_part, len(dataset) - train_part])\n",
    "    return train_dataset, test_dataset"
   ]
  },
  {
   "cell_type": "code",
   "execution_count": null,
   "id": "208d4cd4",
   "metadata": {},
   "outputs": [],
   "source": [
    "transform = transforms.Compose([\n",
    "    transforms.ToTensor(),\n",
    "    transforms.Normalize(mean=0.5, std=0.5)\n",
    "])"
   ]
  },
  {
   "cell_type": "code",
   "execution_count": null,
   "id": "90c74b6c",
   "metadata": {},
   "outputs": [],
   "source": [
    "train_dataset, test_dataset = mnist(train_size, transform)"
   ]
  },
  {
   "cell_type": "code",
   "execution_count": null,
   "id": "4748f886",
   "metadata": {},
   "outputs": [],
   "source": [
    "train_dataloader = torch.utils.data.DataLoader(train_dataset, drop_last=True, batch_size=batch_size, shuffle=True)\n",
    "dataloaders = (train_dataloader, )"
   ]
  },
  {
   "cell_type": "code",
   "execution_count": null,
   "id": "c65317ea",
   "metadata": {},
   "outputs": [],
   "source": [
    "def plotn(n, generator, device):\n",
    "    generator.eval()\n",
    "    noise = torch.FloatTensor(np.random.normal(0, 1, (n, 100))).to(device)\n",
    "    imgs = generator(noise).detach().cpu()\n",
    "    fig, ax = plt.subplots(1, n)\n",
    "    for i, im in enumerate (imgs):\n",
    "        ax[i].imshow(im[0])\n",
    "    plt.show()"
   ]
  }
 ],
 "metadata": {
  "kernelspec": {
   "display_name": "ai-x-CTmFw2",
   "language": "python",
   "name": "python3"
  },
  "language_info": {
   "codemirror_mode": {
    "name": "ipython",
    "version": 3
   },
   "file_extension": ".py",
   "mimetype": "text/x-python",
   "name": "python",
   "nbconvert_exporter": "python",
   "pygments_lexer": "ipython3",
   "version": "3.12.6"
  }
 },
 "nbformat": 4,
 "nbformat_minor": 5
}
