{
 "cells": [
  {
   "cell_type": "code",
   "execution_count": 1,
   "id": "fe67812e",
   "metadata": {},
   "outputs": [
    {
     "name": "stderr",
     "output_type": "stream",
     "text": [
      "2025-05-14 14:08:27.389271: E external/local_xla/xla/stream_executor/cuda/cuda_fft.cc:467] Unable to register cuFFT factory: Attempting to register factory for plugin cuFFT when one has already been registered\n",
      "WARNING: All log messages before absl::InitializeLog() is called are written to STDERR\n",
      "E0000 00:00:1747220907.661825    6490 cuda_dnn.cc:8579] Unable to register cuDNN factory: Attempting to register factory for plugin cuDNN when one has already been registered\n",
      "E0000 00:00:1747220907.741823    6490 cuda_blas.cc:1407] Unable to register cuBLAS factory: Attempting to register factory for plugin cuBLAS when one has already been registered\n",
      "W0000 00:00:1747220908.255423    6490 computation_placer.cc:177] computation placer already registered. Please check linkage and avoid linking the same target more than once.\n",
      "W0000 00:00:1747220908.255473    6490 computation_placer.cc:177] computation placer already registered. Please check linkage and avoid linking the same target more than once.\n",
      "W0000 00:00:1747220908.255477    6490 computation_placer.cc:177] computation placer already registered. Please check linkage and avoid linking the same target more than once.\n",
      "W0000 00:00:1747220908.255481    6490 computation_placer.cc:177] computation placer already registered. Please check linkage and avoid linking the same target more than once.\n",
      "2025-05-14 14:08:28.308894: I tensorflow/core/platform/cpu_feature_guard.cc:210] This TensorFlow binary is optimized to use available CPU instructions in performance-critical operations.\n",
      "To enable the following instructions: AVX2 FMA, in other operations, rebuild TensorFlow with the appropriate compiler flags.\n"
     ]
    }
   ],
   "source": [
    "\n",
    "import tensorflow as tf\n",
    "import tensorflow.keras.layers as keras\n",
    "import matplotlib.pyplot as plt\n",
    "from tqdm import tqdm\n",
    "import numpy as np\n",
    "from skimage.io import imread\n",
    "from skimage.transform import resize\n",
    "import os\n",
    "import tensorflow.keras.optimizers as optimizers\n",
    "import tensorflow.keras.losses as losses\n",
    "from tensorflow.keras.preprocessing.image import ImageDataGenerator\n",
    "tf.random.set_seed(42)\n",
    "np.random.seed(42)"
   ]
  },
  {
   "cell_type": "code",
   "execution_count": null,
   "id": "0f0e66e1",
   "metadata": {},
   "outputs": [],
   "source": [
    "train_size = 0.8\n",
    "lr = 3e-4\n",
    "weight_decay = 8e-9\n",
    "batch_size = 64\n",
    "epochs = 100"
   ]
  },
  {
   "cell_type": "code",
   "execution_count": null,
   "id": "adb81340",
   "metadata": {},
   "outputs": [],
   "source": [
    "!apt-get install rar\n",
    "!wget https://www.dropbox.com/s/k88qukc20ljnbuo/PH2Dataset.rar\n",
    "!unrar x -Y PH2Dataset.rar"
   ]
  },
  {
   "cell_type": "code",
   "execution_count": null,
   "id": "9ccc5bc6",
   "metadata": {},
   "outputs": [],
   "source": [
    "def load_dataset(train_part, root='PH2Dataset'):\n",
    "    images = []\n",
    "    masks = []\n",
    "\n",
    "    for root, dirs, files in os.walk(os.path.join(root, 'PH2 Dataset images')):\n",
    "        if root.endswith('_Dermoscopic_Image'):\n",
    "            images.append(imread(os.path.join(root, files[0])))\n",
    "        if root.endswith('_lesion'):\n",
    "            masks.append(imread(os.path.join(root, files[0])))\n",
    "\n",
    "    size = (256, 256)\n",
    "    images = np.array([resize(image, size, mode='constant', anti_aliasing=True,) for image in images])\n",
    "    masks = np.expand_dims(np.array([resize(mask, size, mode='constant', anti_aliasing=False) > 0.5 for mask in masks]), axis=3)\n",
    "\n",
    "    indices = np.random.permutation(range(len(images)))\n",
    "    train_part = int(train_part * len(images))\n",
    "    train_ind = indices[:train_part]\n",
    "    test_ind = indices[train_part:]\n",
    "\n",
    "    X_train = tf.cast(images[train_ind, :, :, :], tf.float32)\n",
    "    y_train = tf.cast(masks[train_ind, :, :, :], tf.float32)\n",
    "\n",
    "    X_test = tf.cast(images[test_ind, :, :, :], tf.float32)\n",
    "    y_test = tf.cast(masks[test_ind, :, :, :], tf.float32)\n",
    "\n",
    "    return (X_train, y_train), (X_test, y_test)"
   ]
  }
 ],
 "metadata": {
  "kernelspec": {
   "display_name": "ai-x-CTmFw2",
   "language": "python",
   "name": "python3"
  },
  "language_info": {
   "codemirror_mode": {
    "name": "ipython",
    "version": 3
   },
   "file_extension": ".py",
   "mimetype": "text/x-python",
   "name": "python",
   "nbconvert_exporter": "python",
   "pygments_lexer": "ipython3",
   "version": "3.12.6"
  }
 },
 "nbformat": 4,
 "nbformat_minor": 5
}
