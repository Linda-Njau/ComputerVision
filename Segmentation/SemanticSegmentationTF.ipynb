{
 "cells": [
  {
   "cell_type": "code",
   "execution_count": 1,
   "id": "fe67812e",
   "metadata": {},
   "outputs": [
    {
     "name": "stderr",
     "output_type": "stream",
     "text": [
      "2025-05-14 14:08:27.389271: E external/local_xla/xla/stream_executor/cuda/cuda_fft.cc:467] Unable to register cuFFT factory: Attempting to register factory for plugin cuFFT when one has already been registered\n",
      "WARNING: All log messages before absl::InitializeLog() is called are written to STDERR\n",
      "E0000 00:00:1747220907.661825    6490 cuda_dnn.cc:8579] Unable to register cuDNN factory: Attempting to register factory for plugin cuDNN when one has already been registered\n",
      "E0000 00:00:1747220907.741823    6490 cuda_blas.cc:1407] Unable to register cuBLAS factory: Attempting to register factory for plugin cuBLAS when one has already been registered\n",
      "W0000 00:00:1747220908.255423    6490 computation_placer.cc:177] computation placer already registered. Please check linkage and avoid linking the same target more than once.\n",
      "W0000 00:00:1747220908.255473    6490 computation_placer.cc:177] computation placer already registered. Please check linkage and avoid linking the same target more than once.\n",
      "W0000 00:00:1747220908.255477    6490 computation_placer.cc:177] computation placer already registered. Please check linkage and avoid linking the same target more than once.\n",
      "W0000 00:00:1747220908.255481    6490 computation_placer.cc:177] computation placer already registered. Please check linkage and avoid linking the same target more than once.\n",
      "2025-05-14 14:08:28.308894: I tensorflow/core/platform/cpu_feature_guard.cc:210] This TensorFlow binary is optimized to use available CPU instructions in performance-critical operations.\n",
      "To enable the following instructions: AVX2 FMA, in other operations, rebuild TensorFlow with the appropriate compiler flags.\n"
     ]
    }
   ],
   "source": [
    "\n",
    "import tensorflow as tf\n",
    "import tensorflow.keras.layers as keras\n",
    "import matplotlib.pyplot as plt\n",
    "from tqdm import tqdm\n",
    "import numpy as np\n",
    "from skimage.io import imread\n",
    "from skimage.transform import resize\n",
    "import os\n",
    "import tensorflow.keras.optimizers as optimizers\n",
    "import tensorflow.keras.losses as losses\n",
    "from tensorflow.keras.preprocessing.image import ImageDataGenerator\n",
    "tf.random.set_seed(42)\n",
    "np.random.seed(42)"
   ]
  },
  {
   "cell_type": "code",
   "execution_count": null,
   "id": "0f0e66e1",
   "metadata": {},
   "outputs": [],
   "source": [
    "train_size = 0.8\n",
    "lr = 3e-4\n",
    "weight_decay = 8e-9\n",
    "batch_size = 64\n",
    "epochs = 100"
   ]
  },
  {
   "cell_type": "code",
   "execution_count": null,
   "id": "adb81340",
   "metadata": {},
   "outputs": [],
   "source": [
    "!apt-get install rar\n",
    "!wget https://www.dropbox.com/s/k88qukc20ljnbuo/PH2Dataset.rar\n",
    "!unrar x -Y PH2Dataset.rar"
   ]
  },
  {
   "cell_type": "code",
   "execution_count": null,
   "id": "9ccc5bc6",
   "metadata": {},
   "outputs": [],
   "source": [
    "def load_dataset(train_part, root='PH2Dataset'):\n",
    "    images = []\n",
    "    masks = []\n",
    "\n",
    "    for root, dirs, files in os.walk(os.path.join(root, 'PH2 Dataset images')):\n",
    "        if root.endswith('_Dermoscopic_Image'):\n",
    "            images.append(imread(os.path.join(root, files[0])))\n",
    "        if root.endswith('_lesion'):\n",
    "            masks.append(imread(os.path.join(root, files[0])))\n",
    "\n",
    "    size = (256, 256)\n",
    "    images = np.array([resize(image, size, mode='constant', anti_aliasing=True,) for image in images])\n",
    "    masks = np.expand_dims(np.array([resize(mask, size, mode='constant', anti_aliasing=False) > 0.5 for mask in masks]), axis=3)\n",
    "\n",
    "    indices = np.random.permutation(range(len(images)))\n",
    "    train_part = int(train_part * len(images))\n",
    "    train_ind = indices[:train_part]\n",
    "    test_ind = indices[train_part:]\n",
    "\n",
    "    X_train = tf.cast(images[train_ind, :, :, :], tf.float32)\n",
    "    y_train = tf.cast(masks[train_ind, :, :, :], tf.float32)\n",
    "\n",
    "    X_test = tf.cast(images[test_ind, :, :, :], tf.float32)\n",
    "    y_test = tf.cast(masks[test_ind, :, :, :], tf.float32)\n",
    "\n",
    "    return (X_train, y_train), (X_test, y_test)"
   ]
  },
  {
   "cell_type": "code",
   "execution_count": null,
   "id": "ce353ee2",
   "metadata": {},
   "outputs": [],
   "source": [
    "(X_train, y_train), (X_test, y_test) = load_dataset(train_size)"
   ]
  },
  {
   "cell_type": "code",
   "execution_count": null,
   "id": "7ac2fa3d",
   "metadata": {},
   "outputs": [],
   "source": [
    "def plotn(n, data):\n",
    "    images, masks = data[0], data[1]\n",
    "    fig, ax = plt.subplots(1, n)\n",
    "    fig1, ax1 = plt.subplots(1, n)\n",
    "    for i, (img, mask) in enumerate(zip(images, masks)):\n",
    "        if i == n:\n",
    "            break\n",
    "        ax[i].imshow(img)\n",
    "        ax1[i].imshow(mask[:, :, 0])\n",
    "    plt.show()"
   ]
  },
  {
   "cell_type": "code",
   "execution_count": null,
   "id": "d68f0632",
   "metadata": {},
   "outputs": [],
   "source": [
    "\n",
    "plotn(5, (X_train, y_train))"
   ]
  },
  {
   "cell_type": "code",
   "execution_count": null,
   "id": "2963b397",
   "metadata": {},
   "outputs": [],
   "source": [
    "class SegNet(tf.keras.Model):\n",
    "    def __init__(self):\n",
    "        super().__init__()\n",
    "        self.enc_conv0 = keras.Conv2D(16, kernel_size=3, padding='same')\n",
    "        self.bn0 = keras.BatchNormalization()\n",
    "        self.relu = keras.Activation('relu')\n",
    "        self.pool0 = keras.MaxPool2D()\n",
    "\n",
    "        self.enc_conv1 = keras.Conv2D(32, kernel_size=3, padding='same')\n",
    "        self.relu1 = keras.Activation('relu')\n",
    "        self.bn1 = keras.BatchNormalization()\n",
    "        self.pool1 = keras.MaxPool2D()\n",
    "\n",
    "        self.enc_conv3 = keras.Conv2D(128, kernel_size=3, padding='same')\n",
    "        self.relu3 = keras.Activation('relu')\n",
    "        self.bn3 = keras.BatchNormalization()\n",
    "        self.pool3 = keras.MaxPool2D()\n",
    "\n",
    "        self.bottleneck_conv = keras.Conv2D(256, kernel_size=3, padding='same')\n",
    "\n",
    "        self.upsample0 = keras.UpSampling2D(interpolation='bilinear')\n",
    "        self.dec_conv0 = keras.Conv2d(128, kernel_size=3, padding='same')\n",
    "        self.dec_relu0 = keras.Activation('relu')\n",
    "        self.dec_bn0 = keras.BatchNormalization()\n",
    "\n",
    "        self.upsample1 =  keras.UpSampling2D(interpolation='bilinear')\n",
    "        self.dec_conv1 = keras.Conv2D(64, kernel_size=3, padding='same')\n",
    "        self.dec_relu1 = keras.Activation('relu')\n",
    "        self.dec_bn1 = keras.BatchNormalization()\n",
    "\n",
    "        self.upsample2 =  keras.UpSampling2D(interpolation='bilinear')\n",
    "        self.dec_conv2 = keras.Conv2D(32, kernel_size=3, padding='same')\n",
    "        self.dec_relu2 = keras.Activation('relu')\n",
    "        self.dec_bn2 = keras.BatchNormalization()\n",
    "\n",
    "        self.upsample3 =  keras.UpSampling2D(interpolation='bilinear')\n",
    "        self.dec_conv3 = keras.Conv2D(1, kernel_size=1)\n",
    "\n",
    "    def call(self, input):\n",
    "        e0 = self.pool0(self.relu0(self.bn0(self.enc_conv0(input))))\n",
    "        e1 = self.pool1(self.relu1(self.bn1(self.enc_conv1(e0))))\n",
    "        e2 = self.pool2(self.relu2(self.bn2(self.enc_conv2(e1))))\n",
    "        e3 = self.pool3(self.relu3(self.bn3(self.enc_conv3(e2))))\n",
    "\n",
    "        b = self.bottleneck_conv(e3)\n",
    "\n",
    "        d0 = self.dec_relu0(self.dec_bn0(self.upsample0(self.dec_conv0(b))))\n",
    "        d1 = self.dec_relu1(self.dec_bn1(self.upsample1(self.dec_conv1(d0))))\n",
    "        d2 = self.dec_relu2(self.dec_bn2(self.upsample2(self.dec_conv2(d1))))\n",
    "        d3 = self.dec_conv3(self.upsample3(d2))\n",
    "\n",
    "        return d3\n"
   ]
  },
  {
   "cell_type": "code",
   "execution_count": null,
   "id": "b34b2e37",
   "metadata": {},
   "outputs": [],
   "source": [
    "model = SegNet()\n",
    "optimizer = optimizers.Adam(learning_rate=lr, decay=weight_decay)\n",
    "loss_fn = losses.BinaryCrossentropy(from_logits=True)\n",
    "\n",
    "model.compile(loss=loss_fn, optimizer=optimizer)"
   ]
  },
  {
   "cell_type": "code",
   "execution_count": null,
   "id": "353f08f7",
   "metadata": {},
   "outputs": [],
   "source": [
    "def train(datasets, model, epochs, batch_size):\n",
    "    train_dataset, test_dataset = datasets[0], datasets[1]\n",
    "\n",
    "    model.fit(train_dataset[0], train_dataset[1],\n",
    "                epochs=epochs,\n",
    "                batch_size=batch_size,\n",
    "                shuffle=True,\n",
    "                validation_data=(test_dataset[0], test_dataset[1]))"
   ]
  },
  {
   "cell_type": "code",
   "execution_count": null,
   "id": "3798542f",
   "metadata": {},
   "outputs": [],
   "source": [
    "train(((X_train, y_train), (X_test, y_test)), model, epochs, batch_size)"
   ]
  },
  {
   "cell_type": "code",
   "execution_count": null,
   "id": "ec34bd1c",
   "metadata": {},
   "outputs": [],
   "source": [
    "class UNet(tf.keras.Model):\n",
    "    def __init__(self):\n",
    "        super().__init__()\n",
    "        self.enc_conv0 = keras.Conv2D(16, kernel_size=3, padding='same')\n",
    "        self.bn0 = keras.BatchNormalization()\n",
    "        self.relu0 = keras.Activation('relu')\n",
    "        self.pool0 = keras.MaxPool2D()\n",
    "\n",
    "        self.enc_conv1 = keras.Conv2D(32, kernel_size=3, padding='same')\n",
    "        self.relu1 = keras.Activation('relu')\n",
    "        self.bn1 = keras.BatchNormalization()\n",
    "        self.pool1 = keras.MaxPool2D()\n",
    "\n",
    "        self.enc_conv2 = keras.Conv2D(64, kernel_size=3, padding='same')\n",
    "        self.relu2 = keras.Activation('relu')\n",
    "        self.bn2 = keras.BatchNormalization()\n",
    "        self.pool2 = keras.MaxPool2D()\n",
    "\n",
    "        self.enc_conv3 = keras.Conv2D(128, kernel_size=3, padding='same')\n",
    "        self.relu3 = keras.Activation('relu')\n",
    "        self.bn3 = keras.BatchNormalization()\n",
    "        self.pool3 = keras.MaxPool2D()\n",
    "\n",
    "        self.bottleneck_conv = keras.Conv2D(256, kernel_size=(3, 3), padding='same')\n",
    "\n",
    "        self.upsample0 = keras.UpSampling2D(interpolation='bilnear')\n",
    "        self.dec_conv0 = keras.Conv2D(128, kernel_size=3, padding='same', input_shape=[None, 384, None, None])\n",
    "        self.dec_relu0 = keras.Activation('relu')\n",
    "        self.dec_bn0 = keras.BatchNormalization()\n",
    "\n",
    "        self.upsample1 =  keras.UpSampling2D(interpolation='bilinear')\n",
    "        self.dec_conv1 = keras.Conv2D(64, kernel_size=3, padding='same', input_shape=[None, 192, None, None])\n",
    "        self.dec_relu1 = keras.Activation('relu')\n",
    "        self.dec_bn1 = keras.BatchNormalization()\n",
    "\n",
    "        self.upsample2 =  keras.UpSampling2D(interpolation='bilinear')\n",
    "        self.dec_conv2 = keras.Conv2D(32, kernel_size=3, padding='same', input_shape=[None, 96, None, None])\n",
    "        self.dec_relu2 = keras.Activation('relu')\n",
    "        self.dec_bn2 = keras.BatchNormalization()\n",
    "\n",
    "        self.upsample3 =  keras.UpSampling2D(interpolation='bilinear')\n",
    "        self.dec_conv3 = keras.Conv2D(1, kernel_size=1, input_shape=[None, 48, None, None])\n",
    "\n",
    "        self.cat0 = keras.Concatenate(axis=3)\n",
    "        self.cat1 = keras.Concatenate(axis=3)\n",
    "        self.cat2 = keras.Concatenate(axis=3)\n",
    "        self.cat3 = keras.Concatenate(axis=3)\n",
    "\n",
    "    def call(self,input):\n",
    "        e0 = self.pool0(self.relu0(self.bn0(self.enc_conv0(input))))\n",
    "        e1 = self.pool1(self.relu1(self.bn1(self.enc_conv1(e0))))\n",
    "        e2 = self.pool2(self.relu2(self.bn2(self.enc_conv2(e1))))\n",
    "        e3 = self.pool3(self.relu3(self.bn3(self.enc_conv3(e2))))\n",
    "\n",
    "        cat0 = self.relu(self.bn0(self.enc_conv0(input)))\n",
    "        cat1 = self.relu1(self.bn1(self.enc_conv1(e0)))\n",
    "        cat2 = self.relu2(self.bn2(self.enc_conv2(e1)))\n",
    "        cat3 = self.relu3(self.bn3(self.enc_conv3(e2)))\n",
    "\n",
    "        b = self.bottleneck_conv(e3)\n",
    "\n",
    "        cat_tens0 = self.cat0([self.upsample0(b), cat3])\n",
    "        d0 = self.dec_relu0(self.dec_bn0(self.dec_conv0(cat_tens0)))\n",
    "\n",
    "        cat_tens1 = self.cat1([self.upsample1(d0), cat2])\n",
    "        d1 = self.dec_relu1(self.dec_bn1(self.dec_conv1(cat_tens1)))\n",
    "\n",
    "        cat_tens2 = self.cat2([self.upsample2(d1), cat1])\n",
    "        d2 = self.dec_relu2(self.dec_bn2(self.dec_conv2(cat_tens2)))\n",
    "\n",
    "        cat_tens3 = self.cat3([self.upsample3(d2), cat0])\n",
    "        d3 = self.dec_conv3(cat_tens3)\n",
    "\n",
    "        return d3\n"
   ]
  },
  {
   "cell_type": "code",
   "execution_count": null,
   "id": "47536d97",
   "metadata": {},
   "outputs": [],
   "source": [
    "model = UNet()\n",
    "optimizer = optimizers.Adam(learning_rate=lr, decay=weight_decay)\n",
    "loss_fn = losses.BinaryCrossentropy(from_logits=True)\n",
    "\n",
    "model.compile(loss=loss_fn, optimizer=optimizer)"
   ]
  },
  {
   "cell_type": "code",
   "execution_count": null,
   "id": "1ec9169d",
   "metadata": {},
   "outputs": [],
   "source": [
    "train(((X_train, y_train), (X_test, y_test)), model, epochs, batch_size)"
   ]
  }
 ],
 "metadata": {
  "kernelspec": {
   "display_name": "ai-x-CTmFw2",
   "language": "python",
   "name": "python3"
  },
  "language_info": {
   "codemirror_mode": {
    "name": "ipython",
    "version": 3
   },
   "file_extension": ".py",
   "mimetype": "text/x-python",
   "name": "python",
   "nbconvert_exporter": "python",
   "pygments_lexer": "ipython3",
   "version": "3.12.6"
  }
 },
 "nbformat": 4,
 "nbformat_minor": 5
}
